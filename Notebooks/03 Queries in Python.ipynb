{
 "cells": [
  {
   "cell_type": "markdown",
   "metadata": {},
   "source": [
    "# Little Lemon DB Connector"
   ]
  },
  {
   "cell_type": "code",
   "execution_count": 1,
   "metadata": {},
   "outputs": [],
   "source": [
    "import mysql.connector as connector"
   ]
  },
  {
   "cell_type": "markdown",
   "metadata": {},
   "source": [
    "## Task 1:\n",
    "Connect to Database"
   ]
  },
  {
   "cell_type": "code",
   "execution_count": null,
   "metadata": {},
   "outputs": [],
   "source": [
    "# technically, the password (and user name) should be stored as environmental variables and accessed through the os module\n",
    "# however, I will delete the database upon completion, so setting up environmentaö variables seems inefficient\n",
    "connection = connector.connect(user = 'LittleLemonAdmin', password = 'password', db = 'littlelemondb')\n",
    "cursor = connection.cursor()"
   ]
  },
  {
   "cell_type": "markdown",
   "metadata": {},
   "source": [
    "## Task 2:\n",
    "Show tables in Database"
   ]
  },
  {
   "cell_type": "code",
   "execution_count": 3,
   "metadata": {},
   "outputs": [
    {
     "name": "stdout",
     "output_type": "stream",
     "text": [
      "bookings\n",
      "customer\n",
      "delivery\n",
      "menu\n",
      "menuitems\n",
      "orders\n",
      "ordersview\n",
      "staff\n"
     ]
    }
   ],
   "source": [
    "show_tables_query = 'SHOW tables;'\n",
    "cursor.execute(show_tables_query)\n",
    "tables = cursor.fetchall()\n",
    "for table in tables:\n",
    "    print(table[0])"
   ]
  },
  {
   "cell_type": "markdown",
   "metadata": {},
   "source": [
    "## Task 3:\n",
    "Extract the full name and contact details of every customer who placed an order > $60."
   ]
  },
  {
   "cell_type": "code",
   "execution_count": 4,
   "metadata": {},
   "outputs": [
    {
     "name": "stdout",
     "output_type": "stream",
     "text": [
      "['FullName', 'Email', 'Phone']\n",
      "('Emily Clark', 'emily.clark@example.com', '555-0106')\n",
      "('Ivy Moore', 'ivy.moore@example.com', '555-0110')\n",
      "('Jane Smith', 'jane.smith@example.com', '555-0102')\n",
      "('Bob Johnson', 'bob.johnson@example.com', '555-0104')\n",
      "('Hank Wilson', 'hank.wilson@example.com', '555-0109')\n",
      "('Ivy Moore', 'ivy.moore@example.com', '555-0110')\n"
     ]
    }
   ],
   "source": [
    "# Join the Orders and Customers table on CustomerID and filter on Orders with an BillAmount > 60\n",
    "customer_query = \"\"\"\n",
    "SELECT\n",
    "    CONCAT(c.FirstName, ' ', c.LastName) AS FullName,\n",
    "    c.Email,\n",
    "    c.Phone\n",
    "FROM Customer AS c\n",
    "INNER JOIN Orders AS o\n",
    "ON c.CustomerID = o.CustomerID\n",
    "WHERE o.BillAmount > 60;\n",
    "\"\"\"\n",
    "cursor.execute(customer_query)\n",
    "column_names = [desc[0] for desc in cursor.description]\n",
    "customer_details = cursor.fetchall()\n",
    "print(column_names)\n",
    "for row in customer_details:\n",
    "    print(row)"
   ]
  }
 ],
 "metadata": {
  "kernelspec": {
   "display_name": "DBEngineeringCapstone",
   "language": "python",
   "name": "python3"
  },
  "language_info": {
   "codemirror_mode": {
    "name": "ipython",
    "version": 3
   },
   "file_extension": ".py",
   "mimetype": "text/x-python",
   "name": "python",
   "nbconvert_exporter": "python",
   "pygments_lexer": "ipython3",
   "version": "3.11.10"
  }
 },
 "nbformat": 4,
 "nbformat_minor": 2
}
